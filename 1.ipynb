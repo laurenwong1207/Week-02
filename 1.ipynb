{
 "cells": [
  {
   "cell_type": "code",
   "execution_count": 1,
   "metadata": {},
   "outputs": [
    {
     "name": "stdout",
     "output_type": "stream",
     "text": [
      "['amawalk-reservoir.jpg', 'Ashokan Reservoir.jpg', 'boyds-corner-reservoir.jpg', 'Cannonsville Reservoir.jpg', 'Cross River Reservoir.jpg', 'Croton Falls.jpg', 'Diverting Reservoir.jpg', 'East Branch Reservoir.jpg', 'Kensico Reservoir.jpg', 'Middle Branch Reservoir.jpg', 'muscoot-reservoir.jpg', 'Neversink Reservoir.jpg', 'Pepacton Reservoir.jpg', 'Rondout Reservoir.jpg', 'Schoharie Reservoir.jpg', 'titicus-reservoir.jpg', 'West Branch Reservoir.jpg']\n"
     ]
    }
   ],
   "source": [
    "import os\n",
    "\n",
    "# Specify the assets folder path\n",
    "folder_path = 'assets'\n",
    "\n",
    "# Screen all files in the assets folder and filter out JPG images\n",
    "imageNames = [filename for filename in os.listdir(folder_path) if filename.endswith('.jpg')]\n",
    "\n",
    "print(imageNames)"
   ]
  }
 ],
 "metadata": {
  "kernelspec": {
   "display_name": "Python 3",
   "language": "python",
   "name": "python3"
  },
  "language_info": {
   "codemirror_mode": {
    "name": "ipython",
    "version": 3
   },
   "file_extension": ".py",
   "mimetype": "text/x-python",
   "name": "python",
   "nbconvert_exporter": "python",
   "pygments_lexer": "ipython3",
   "version": "3.12.2"
  }
 },
 "nbformat": 4,
 "nbformat_minor": 2
}
